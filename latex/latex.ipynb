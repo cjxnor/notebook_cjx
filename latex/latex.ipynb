{
 "cells": [
  {
   "cell_type": "markdown",
   "id": "cb4adf8d-8ac1-4484-ba14-014032afdeea",
   "metadata": {},
   "source": [
    "[Markdown中使用LaTex教程](https://blog.csdn.net/weixin_44560698/article/details/119865708)"
   ]
  },
  {
   "cell_type": "markdown",
   "id": "576b4e74-22c1-4586-a6d6-57898bcbac2c",
   "metadata": {},
   "source": [
    "正文中的LaTex用`$...$`定义行内公式，用`$$...$$`单独居中"
   ]
  },
  {
   "cell_type": "code",
   "execution_count": null,
   "id": "172689bd-4f53-4d49-af8e-ca469671c06e",
   "metadata": {},
   "outputs": [],
   "source": []
  }
 ],
 "metadata": {
  "kernelspec": {
   "display_name": "Python 3 (ipykernel)",
   "language": "python",
   "name": "python3"
  },
  "language_info": {
   "codemirror_mode": {
    "name": "ipython",
    "version": 3
   },
   "file_extension": ".py",
   "mimetype": "text/x-python",
   "name": "python",
   "nbconvert_exporter": "python",
   "pygments_lexer": "ipython3",
   "version": "3.12.7"
  }
 },
 "nbformat": 4,
 "nbformat_minor": 5
}
