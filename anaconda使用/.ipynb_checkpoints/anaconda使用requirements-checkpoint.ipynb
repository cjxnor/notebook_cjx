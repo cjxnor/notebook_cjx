{
 "cells": [
  {
   "cell_type": "markdown",
   "id": "c554245e-b47b-46b6-941e-ef794118cb82",
   "metadata": {},
   "source": [
    "[Anaconda使用requirement方法](https://blog.csdn.net/qq_41340996/article/details/119334529)"
   ]
  },
  {
   "cell_type": "markdown",
   "id": "5d17f5cf-3495-4c6c-91be-929c82dc7fd0",
   "metadata": {},
   "source": [
    "# 生成requirements.txt\n",
    "conda激活环境后运行  `pip freeze > requirements.txt`"
   ]
  },
  {
   "cell_type": "markdown",
   "id": "0097035f-05a6-4688-bdf1-d943ecd1f636",
   "metadata": {},
   "source": [
    "# 安装requirements.txt中的包\n",
    "`pip install -r requirements.txt`"
   ]
  },
  {
   "cell_type": "markdown",
   "id": "b19453b6-eaac-4ad8-9d8c-c25a672c6a17",
   "metadata": {},
   "source": [
    "# 导出conda环境\n",
    "`conda env export > requirements.yml`"
   ]
  },
  {
   "cell_type": "markdown",
   "id": "0aea3489-e9f4-44d5-879d-2a4ae4793dd7",
   "metadata": {},
   "source": [
    "# 从yml文件创建环境\n",
    "`conda env create -f requirements.yml`"
   ]
  },
  {
   "cell_type": "code",
   "execution_count": null,
   "id": "96104ca1-095c-4882-a78f-8a5858ad332f",
   "metadata": {},
   "outputs": [],
   "source": []
  }
 ],
 "metadata": {
  "kernelspec": {
   "display_name": "Python 3 (ipykernel)",
   "language": "python",
   "name": "python3"
  },
  "language_info": {
   "codemirror_mode": {
    "name": "ipython",
    "version": 3
   },
   "file_extension": ".py",
   "mimetype": "text/x-python",
   "name": "python",
   "nbconvert_exporter": "python",
   "pygments_lexer": "ipython3",
   "version": "3.12.7"
  }
 },
 "nbformat": 4,
 "nbformat_minor": 5
}
