{
 "cells": [
  {
   "cell_type": "markdown",
   "id": "6c694fe5-f1cf-48c0-bb90-2187a0f05827",
   "metadata": {},
   "source": [
    "# 创建虚拟环境\n",
    "`conda create -n ENV_NAME`      # ENV_NAME 虚拟环境名\n",
    "\n",
    "`conda create -n test python=3.6`    # 指定python版本"
   ]
  },
  {
   "cell_type": "markdown",
   "id": "51d79e9f-dcf2-48ae-a20b-2352a966d6e9",
   "metadata": {},
   "source": [
    "# 查看虚拟环境\n",
    "`conda env list`"
   ]
  },
  {
   "cell_type": "markdown",
   "id": "742264fc-fa58-4215-90d3-9f0f89a61c7c",
   "metadata": {},
   "source": [
    "# 激活虚拟环境\n",
    "`conda activate ENV_NAME`"
   ]
  },
  {
   "cell_type": "markdown",
   "id": "2ccb164a-b050-4b78-acd5-3d4abf198c83",
   "metadata": {},
   "source": [
    "# 退出虚拟环境\n",
    "`conda deactivate`"
   ]
  },
  {
   "cell_type": "markdown",
   "id": "3024eb62-c795-41a3-b9f7-2c48e15de4d4",
   "metadata": {},
   "source": [
    "# 删除虚拟环境\n",
    "`conda remove -n  ENV_NAME --all`"
   ]
  },
  {
   "cell_type": "code",
   "execution_count": null,
   "id": "e9bd919e-a5af-4de0-901d-48f0f962ac59",
   "metadata": {},
   "outputs": [],
   "source": []
  }
 ],
 "metadata": {
  "kernelspec": {
   "display_name": "Python 3 (ipykernel)",
   "language": "python",
   "name": "python3"
  },
  "language_info": {
   "codemirror_mode": {
    "name": "ipython",
    "version": 3
   },
   "file_extension": ".py",
   "mimetype": "text/x-python",
   "name": "python",
   "nbconvert_exporter": "python",
   "pygments_lexer": "ipython3",
   "version": "3.12.7"
  }
 },
 "nbformat": 4,
 "nbformat_minor": 5
}
