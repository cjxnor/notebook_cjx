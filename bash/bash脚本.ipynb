{
 "cells": [
  {
   "cell_type": "markdown",
   "id": "8eb45822-b78f-49e8-9411-454134202aee",
   "metadata": {},
   "source": [
    "[bash脚本教程](https://wangdoc.com/bash/intro)"
   ]
  },
  {
   "cell_type": "code",
   "execution_count": null,
   "id": "d4f42471-9ac7-4f6b-ab42-4605d5db740a",
   "metadata": {},
   "outputs": [],
   "source": []
  }
 ],
 "metadata": {
  "kernelspec": {
   "display_name": "Python 3 (ipykernel)",
   "language": "python",
   "name": "python3"
  },
  "language_info": {
   "codemirror_mode": {
    "name": "ipython",
    "version": 3
   },
   "file_extension": ".py",
   "mimetype": "text/x-python",
   "name": "python",
   "nbconvert_exporter": "python",
   "pygments_lexer": "ipython3",
   "version": "3.12.7"
  }
 },
 "nbformat": 4,
 "nbformat_minor": 5
}
