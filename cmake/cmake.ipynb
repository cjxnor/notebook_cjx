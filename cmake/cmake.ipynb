{
 "cells": [
  {
   "cell_type": "markdown",
   "id": "85f61e4e-d83c-48bc-9fc1-fe7c8ce65242",
   "metadata": {},
   "source": [
    "# 1.常用宏"
   ]
  },
  {
   "cell_type": "markdown",
   "id": "2c5ec83b-3946-48ea-bd33-fb733a2292d0",
   "metadata": {},
   "source": [
    "- PROJECT_SOURCE_DIR  `//宏对应的值就是我们在使用cmake命令时，后面紧跟的目录，一般是工程的根目录`"
   ]
  },
  {
   "cell_type": "markdown",
   "id": "e5296882-c969-446a-ac4a-cd315d2bf74e",
   "metadata": {},
   "source": [
    "- CMAKE_CURRENT_SOURCE_DIR   `//表示当前访问的 CMakeLists.txt 文件所在的路径`"
   ]
  },
  {
   "cell_type": "markdown",
   "id": "26b3580b-4944-44ee-90ff-33cc3380998b",
   "metadata": {},
   "source": [
    "- CMAKE_BINARY_DIR  `//项目实际构建路径，假设在build目录进行的构建，那么得到的就是这个目录的路径`"
   ]
  },
  {
   "cell_type": "code",
   "execution_count": null,
   "id": "553a47ab-9f86-4490-a1a3-8667f1bbe985",
   "metadata": {},
   "outputs": [],
   "source": []
  }
 ],
 "metadata": {
  "kernelspec": {
   "display_name": "Python 3 (ipykernel)",
   "language": "python",
   "name": "python3"
  },
  "language_info": {
   "codemirror_mode": {
    "name": "ipython",
    "version": 3
   },
   "file_extension": ".py",
   "mimetype": "text/x-python",
   "name": "python",
   "nbconvert_exporter": "python",
   "pygments_lexer": "ipython3",
   "version": "3.12.7"
  }
 },
 "nbformat": 4,
 "nbformat_minor": 5
}
