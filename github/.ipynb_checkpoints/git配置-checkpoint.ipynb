{
 "cells": [
  {
   "cell_type": "markdown",
   "id": "7f395dd8-c489-4a6f-a00f-1b880f55e199",
   "metadata": {},
   "source": [
    "# 1.单个项目中Git配置文件位置"
   ]
  },
  {
   "cell_type": "markdown",
   "id": "18829a33-2033-4f0d-97ac-d4a8c76b5e07",
   "metadata": {},
   "source": [
    "`.git/config`"
   ]
  },
  {
   "cell_type": "markdown",
   "id": "96f066a1-ce8c-42fc-95f9-710055ba059d",
   "metadata": {},
   "source": [
    "# 2.配置用户名和邮箱"
   ]
  },
  {
   "cell_type": "markdown",
   "id": "443b1d00-1058-412b-a5fd-3069bdf6b1bc",
   "metadata": {},
   "source": [
    "- 全局 `git config --global user.name \"cjxnor\"`"
   ]
  },
  {
   "cell_type": "markdown",
   "id": "d7f1f2a9-7524-470c-9a8b-5955a27940b2",
   "metadata": {},
   "source": [
    "- 全局 `git config --global user.email cjx0910@163.com`"
   ]
  },
  {
   "cell_type": "markdown",
   "id": "a3429a0c-b797-44ae-8675-f3641efcf602",
   "metadata": {},
   "source": [
    "- `git config user.name \"cjxnor\"`"
   ]
  },
  {
   "cell_type": "markdown",
   "id": "2a0cb301-9945-4e14-a226-35ef3dd00823",
   "metadata": {},
   "source": [
    "- `git config --global user.email cjx0910@163.com`"
   ]
  },
  {
   "cell_type": "markdown",
   "id": "c68e3131-cfa2-412b-96c4-e044539b46a0",
   "metadata": {},
   "source": [
    "# 3.查看用户名和邮箱"
   ]
  },
  {
   "cell_type": "markdown",
   "id": "d492082b-ecff-4ae7-adc3-07808a66bbcf",
   "metadata": {},
   "source": [
    "`git config user.name`"
   ]
  },
  {
   "cell_type": "markdown",
   "id": "ab9781f6-bc19-4126-aaff-0d8cf9d6b851",
   "metadata": {},
   "source": [
    "`git config user.email`"
   ]
  },
  {
   "cell_type": "code",
   "execution_count": null,
   "id": "a9bc396f-e3d2-4ef5-bd1b-3efce6d09e18",
   "metadata": {},
   "outputs": [],
   "source": []
  }
 ],
 "metadata": {
  "kernelspec": {
   "display_name": "Python 3 (ipykernel)",
   "language": "python",
   "name": "python3"
  },
  "language_info": {
   "codemirror_mode": {
    "name": "ipython",
    "version": 3
   },
   "file_extension": ".py",
   "mimetype": "text/x-python",
   "name": "python",
   "nbconvert_exporter": "python",
   "pygments_lexer": "ipython3",
   "version": "3.12.7"
  }
 },
 "nbformat": 4,
 "nbformat_minor": 5
}
