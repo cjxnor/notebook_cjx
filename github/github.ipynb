{
 "cells": [
  {
   "cell_type": "markdown",
   "id": "b26a1dff-4798-4b30-ac28-d17f1a21859f",
   "metadata": {},
   "source": [
    "# 1.初始化一个未跟踪的本地仓库"
   ]
  },
  {
   "cell_type": "markdown",
   "id": "c5ab3931-919e-4b50-a74b-636de80967d2",
   "metadata": {},
   "source": [
    "`git init`"
   ]
  },
  {
   "cell_type": "markdown",
   "id": "f5cf2f42-0904-4590-982b-e86639027729",
   "metadata": {},
   "source": [
    "# 2.将本地仓库与Github远程仓库建立连接"
   ]
  },
  {
   "cell_type": "markdown",
   "id": "5b4fa51d-63df-49b0-a5a0-23adb38c5ac9",
   "metadata": {},
   "source": [
    "首先要在Github上创建一个新的仓库"
   ]
  },
  {
   "cell_type": "markdown",
   "id": "080d215a-a8ad-4484-b67e-e5cb7336d522",
   "metadata": {},
   "source": [
    "`git remote add origin git@github.com:cjxnor/notebook_cjx.git`  \n",
    "前提是已经配置了ssh-key，一个ssh-key只能用于一个github账号。"
   ]
  },
  {
   "cell_type": "markdown",
   "id": "1fcf7700-c1c3-4d43-bd72-52f62741038d",
   "metadata": {},
   "source": [
    "也可以`git remote add origin https://github.com/cjxnor/notebook_cjx.git`  \n",
    "但是后面`git push -u origin master`的时候会报错："
   ]
  },
  {
   "cell_type": "markdown",
   "id": "bf705fee-c9f0-4449-959e-65b7b4f85167",
   "metadata": {},
   "source": [
    "![git push报错](http://localhost:8888/files/github/src/images/%E5%B1%8F%E5%B9%95%E6%88%AA%E5%9B%BE%202024-12-04%20111540.jpg?_xsrf=2%7C9ee34b4c%7Cbe021de466d128b2cb40d7795295a91c%7C1732890541 \"git push报错\")"
   ]
  },
  {
   "cell_type": "markdown",
   "id": "f97555d6-01e3-4946-8c40-17001fa14e2e",
   "metadata": {},
   "source": [
    "## 2.1与远程仓库建立连接"
   ]
  },
  {
   "cell_type": "markdown",
   "id": "a1ee05c7-3985-43d7-a402-965b631cbeb4",
   "metadata": {},
   "source": [
    "`git remote add origin 仓库地址`"
   ]
  },
  {
   "cell_type": "markdown",
   "id": "648293fc-029f-42bf-927c-1778b4c8fd59",
   "metadata": {},
   "source": [
    "## 2.2查看远程连接"
   ]
  },
  {
   "cell_type": "markdown",
   "id": "73d7484c-07ab-40a8-b37b-6b58c369db01",
   "metadata": {},
   "source": [
    "`git remote -v`"
   ]
  },
  {
   "cell_type": "markdown",
   "id": "d43618c2-b638-487a-b19d-636929335ef3",
   "metadata": {},
   "source": [
    "## 2.3取消与远程仓库的连接"
   ]
  },
  {
   "cell_type": "markdown",
   "id": "0f272300-c03f-490b-9533-3074cd00e1ec",
   "metadata": {},
   "source": [
    "`git remote remove origin`"
   ]
  },
  {
   "cell_type": "markdown",
   "id": "67ba25be-713e-4537-be95-6976d83427dd",
   "metadata": {},
   "source": [
    "# 3.本地内容上传"
   ]
  },
  {
   "cell_type": "markdown",
   "id": "88400bc5-a979-431c-8c63-932eeab492ec",
   "metadata": {},
   "source": [
    "由于新建仓库是空的，所以要加上-u参数"
   ]
  },
  {
   "cell_type": "markdown",
   "id": "029ba872-71e0-4300-9d92-def6d25d1e30",
   "metadata": {},
   "source": [
    "`git push -u origin master`"
   ]
  },
  {
   "cell_type": "markdown",
   "id": "989f8b52-1c4e-4d5b-8b4d-750c22957d43",
   "metadata": {},
   "source": [
    "之后提交就不需要加"
   ]
  },
  {
   "cell_type": "markdown",
   "id": "8bea37f0-8173-4a84-90ae-e747c75ac93f",
   "metadata": {},
   "source": [
    "`git push origin master`"
   ]
  },
  {
   "cell_type": "code",
   "execution_count": null,
   "id": "b9dbab85-904a-4102-9e71-f3c22fa32441",
   "metadata": {},
   "outputs": [],
   "source": []
  }
 ],
 "metadata": {
  "kernelspec": {
   "display_name": "Python 3 (ipykernel)",
   "language": "python",
   "name": "python3"
  },
  "language_info": {
   "codemirror_mode": {
    "name": "ipython",
    "version": 3
   },
   "file_extension": ".py",
   "mimetype": "text/x-python",
   "name": "python",
   "nbconvert_exporter": "python",
   "pygments_lexer": "ipython3",
   "version": "3.12.7"
  }
 },
 "nbformat": 4,
 "nbformat_minor": 5
}
