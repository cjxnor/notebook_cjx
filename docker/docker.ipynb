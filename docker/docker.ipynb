{
 "cells": [
  {
   "cell_type": "markdown",
   "id": "0edc9b1f-f8d8-434d-9e56-fef58f521ecd",
   "metadata": {},
   "source": [
    "[docker命令参考](https://www.runoob.com/docker/docker-container-usage.html)"
   ]
  },
  {
   "cell_type": "markdown",
   "id": "a7dc25bb-8d57-44ce-86bc-760c25b0f624",
   "metadata": {},
   "source": [
    "# 1.列出当前正在运行的容器"
   ]
  },
  {
   "cell_type": "markdown",
   "id": "fa3e2408-0e52-4745-980a-417d3dabec43",
   "metadata": {},
   "source": [
    "`docker ps`"
   ]
  },
  {
   "cell_type": "markdown",
   "id": "b2d46705-f3a9-4186-9e33-13f0a985fee2",
   "metadata": {},
   "source": [
    "# 2.列出所有容器 包括已经停止的"
   ]
  },
  {
   "cell_type": "markdown",
   "id": "b425ee81-7bb6-458a-825f-e1a6fa0c92c4",
   "metadata": {},
   "source": [
    "`docker ps -a`"
   ]
  },
  {
   "cell_type": "markdown",
   "id": "d3e74acc-949d-45eb-adc7-b699aef0a416",
   "metadata": {},
   "source": [
    "![列出所有容器](http://localhost:8888/files/docker/src/images/%E5%B1%8F%E5%B9%95%E6%88%AA%E5%9B%BE%202024-12-04%20181520.jpg?_xsrf=2%7C9ee34b4c%7Cbe021de466d128b2cb40d7795295a91c%7C1732890541 \"列出所有容器\")"
   ]
  },
  {
   "cell_type": "markdown",
   "id": "af76e30d-246b-444d-b35e-ca3f4b954e07",
   "metadata": {},
   "source": [
    "# 3.进入容器的交互式终端"
   ]
  },
  {
   "cell_type": "markdown",
   "id": "61cfd984-b628-4042-802f-f57bf88250ad",
   "metadata": {},
   "source": [
    "`docker exec -it jchen2 /bin/bash`"
   ]
  },
  {
   "cell_type": "markdown",
   "id": "e853f7a6-34b1-4684-9f27-225d82d6ad47",
   "metadata": {},
   "source": [
    "- -i 交互式操作"
   ]
  },
  {
   "cell_type": "markdown",
   "id": "0164a272-7b51-4eba-858e-c815d8014835",
   "metadata": {},
   "source": [
    "- -t 终端"
   ]
  },
  {
   "cell_type": "markdown",
   "id": "b3deefaf-7011-40b8-9a94-7a2c22dd54a7",
   "metadata": {},
   "source": [
    "- jchen2 镜像名"
   ]
  },
  {
   "cell_type": "markdown",
   "id": "a17fb510-7dc7-439e-ad6c-7795ec6cb5de",
   "metadata": {},
   "source": [
    "- /bin/bash 这里我们希望有个交互式 Shell，因此用的是 /bin/bash"
   ]
  },
  {
   "cell_type": "markdown",
   "id": "5535afb2-fd58-4966-87ba-ef94df43fc37",
   "metadata": {},
   "source": [
    "退出终端，直接输入`exit`"
   ]
  },
  {
   "cell_type": "markdown",
   "id": "b7221b5a-e511-4d44-be14-7f7324c17182",
   "metadata": {},
   "source": [
    "# 4.启动一个已经停止的容器"
   ]
  },
  {
   "cell_type": "markdown",
   "id": "91308d3b-cde8-4ebb-923b-f4df54596cd4",
   "metadata": {},
   "source": [
    "`docker start f033644651f2`"
   ]
  },
  {
   "cell_type": "markdown",
   "id": "df5faec5-ef62-49b5-b760-7ecda8f932d4",
   "metadata": {},
   "source": [
    "![启动一个已经停止的容器](http://localhost:8888/files/docker/src/images/%E5%B1%8F%E5%B9%95%E6%88%AA%E5%9B%BE%202024-12-04%20181602.jpg?_xsrf=2%7C9ee34b4c%7Cbe021de466d128b2cb40d7795295a91c%7C1732890541 \"启动一个已经停止的容器\")"
   ]
  },
  {
   "cell_type": "code",
   "execution_count": null,
   "id": "e5c86b87-cbcd-495e-9111-b1cb125d1483",
   "metadata": {},
   "outputs": [],
   "source": []
  },
  {
   "cell_type": "code",
   "execution_count": null,
   "id": "756f8aab-dde1-4698-9d55-d871c6f609d2",
   "metadata": {},
   "outputs": [],
   "source": []
  }
 ],
 "metadata": {
  "kernelspec": {
   "display_name": "Python 3 (ipykernel)",
   "language": "python",
   "name": "python3"
  },
  "language_info": {
   "codemirror_mode": {
    "name": "ipython",
    "version": 3
   },
   "file_extension": ".py",
   "mimetype": "text/x-python",
   "name": "python",
   "nbconvert_exporter": "python",
   "pygments_lexer": "ipython3",
   "version": "3.12.7"
  }
 },
 "nbformat": 4,
 "nbformat_minor": 5
}
