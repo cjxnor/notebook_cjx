{
 "cells": [
  {
   "cell_type": "markdown",
   "id": "9af69fd7-0c82-4691-b4c4-a8ccf1204ff3",
   "metadata": {},
   "source": [
    "[基变换和坐标变换](https://zhuanlan.zhihu.com/p/683873038)"
   ]
  },
  {
   "cell_type": "markdown",
   "id": "34f99c6a-311b-42fa-8d30-28065ea7b3ec",
   "metadata": {},
   "source": [
    "[各种变换矩阵](https://blog.csdn.net/weixin_46773434/article/details/127417579)"
   ]
  },
  {
   "cell_type": "markdown",
   "id": "92ddc2da-99d2-439f-8dfb-333105984792",
   "metadata": {},
   "source": [
    "# 1.基变换"
   ]
  },
  {
   "cell_type": "markdown",
   "id": "d0b55219-6d8e-43e2-8fa3-6f94c0f0325e",
   "metadata": {},
   "source": [
    "- 将一组基向量$M(\\vec{m_1}, \\vec{m_2})$变换成另一组基向量$N(\\vec{n_1}, \\vec{n_2})$ ，只需要找到一个基变换矩阵$P$ ，使得$\\vec{M} \\times \\vec{P}=\\vec{N}$ "
   ]
  },
  {
   "cell_type": "code",
   "execution_count": null,
   "id": "b7a9d77e-25ec-42c2-ab4d-986987742d8a",
   "metadata": {},
   "outputs": [],
   "source": []
  },
  {
   "cell_type": "markdown",
   "id": "6e303b9c-b65b-4b9b-95fc-a9f3a2add0a8",
   "metadata": {},
   "source": [
    "# 2.坐标变换"
   ]
  },
  {
   "cell_type": "code",
   "execution_count": null,
   "id": "5843aaf7-68bb-4c34-a156-eb7f7a05d01a",
   "metadata": {},
   "outputs": [],
   "source": []
  }
 ],
 "metadata": {
  "kernelspec": {
   "display_name": "Python 3 (ipykernel)",
   "language": "python",
   "name": "python3"
  },
  "language_info": {
   "codemirror_mode": {
    "name": "ipython",
    "version": 3
   },
   "file_extension": ".py",
   "mimetype": "text/x-python",
   "name": "python",
   "nbconvert_exporter": "python",
   "pygments_lexer": "ipython3",
   "version": "3.12.7"
  }
 },
 "nbformat": 4,
 "nbformat_minor": 5
}
